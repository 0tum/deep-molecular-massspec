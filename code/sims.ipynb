{
 "cells": [
  {
   "cell_type": "code",
   "execution_count": null,
   "id": "c0adce2d",
   "metadata": {},
   "outputs": [],
   "source": [
    "# 実測スペクトルmeasと予測スペクトルpredの各種類似度を計算するコード\n",
    "\n",
    "import numpy as np\n",
    "import re"
   ]
  },
  {
   "cell_type": "code",
   "execution_count": 36,
   "id": "7a938d5f",
   "metadata": {},
   "outputs": [],
   "source": [
    "input_sdf = '../data/sample_output.sdf'\n",
    "# SDF を読み込んでレコードごとに分割\n",
    "with open(input_sdf, 'r', encoding='utf-8') as f:\n",
    "    content = f.read()\n",
    "records = content.split('$$$$')"
   ]
  },
  {
   "cell_type": "code",
   "execution_count": 37,
   "id": "a3ed1e0d",
   "metadata": {},
   "outputs": [],
   "source": [
    "def extract_block(record, tag):\n",
    "    pattern = rf'<{tag}>\\s*(.*?)\\s*(?=(<[^>]+>|$))'\n",
    "    match = re.search(pattern, record, re.DOTALL)\n",
    "    return match.group(1).strip() if match else ''\n",
    "\n",
    "def parse_peaks(block):\n",
    "    data = []\n",
    "    for line in block.splitlines():\n",
    "        parts = line.split()\n",
    "        if len(parts) >= 2:\n",
    "            try:\n",
    "                mz = float(parts[0])\n",
    "                intensity = float(parts[1])\n",
    "                data.append((mz, intensity))\n",
    "            except ValueError:\n",
    "                continue\n",
    "    return data\n",
    "\n",
    "# スペクトル抽出\n",
    "spectra_list = []\n",
    "for rec in records[0:1]:\n",
    "    if rec.strip():\n",
    "        meas_block = extract_block(rec, 'MASS SPECTRAL PEAKS')\n",
    "        pred_block = extract_block(rec, 'PREDICTED SPECTRUM')\n",
    "        measured = parse_peaks(meas_block)\n",
    "        predicted = parse_peaks(pred_block)"
   ]
  },
  {
   "cell_type": "code",
   "execution_count": 38,
   "id": "e5ba86d5",
   "metadata": {},
   "outputs": [
    {
     "name": "stdout",
     "output_type": "stream",
     "text": [
      "[(32.0, 4.404404), (35.7, 2.202202), (37.7, 0.700701), (38.9, 1.301301), (40.2, 0.4004), (41.2, 17.517518), (42.0, 4.204204), (43.0, 48.348348), (43.6, 1.601602), (52.9, 0.600601), (53.8, 0.600601), (55.3, 24.224224), (56.3, 21.621622), (57.0, 100.0), (58.0, 5.905906), (67.0, 1.901902), (68.0, 1.901902), (69.2, 19.81982), (70.4, 20.42042), (72.0, 94.994995), (73.0, 6.606607), (81.2, 1.501502), (82.3, 1.201201), (83.3, 10.910911), (84.2, 10.41041), (86.0, 67.767768), (86.5, 5.205205), (95.0, 1.301301), (96.2, 7.907908), (97.4, 18.218218), (98.1, 6.906907), (99.8, 35.335335), (100.0, 2.902903), (109.1, 0.500501), (110.1, 1.301301), (111.3, 7.907908), (112.4, 20.820821), (113.8, 41.641642), (114.0, 4.004004), (124.1, 0.900901), (125.3, 6.606607), (126.6, 22.522523), (127.0, 43.143143), (128.0, 4.804805), (138.2, 0.1001), (139.2, 1.701702), (140.1, 5.805806), (141.3, 24.124124), (142.0, 2.702703), (153.1, 0.500501), (154.3, 5.605606), (155.5, 20.12012), (156.2, 2.502503), (167.1, 2.202202), (168.3, 4.804805), (169.6, 17.617618), (170.2, 2.402402), (181.1, 0.800801), (182.4, 17.017017), (183.5, 31.731732), (184.0, 5.005005), (195.0, 0.4004), (196.4, 16.216216), (197.0, 31.131131), (198.3, 5.005005), (199.0, 0.4004), (210.3, 1.401401), (211.4, 6.206206), (212.0, 1.001001), (224.1, 4.804805), (225.2, 8.108108), (225.8, 1.401401), (238.2, 4.604605), (239.3, 7.007007), (240.0, 1.301301), (252.5, 11.611612), (253.3, 18.518519), (254.5, 3.703704), (255.1, 0.3003), (266.5, 9.70971), (267.0, 17.117117), (268.0, 3.403403), (269.0, 0.3003), (280.2, 1.501502), (281.1, 2.102102), (282.0, 0.4004), (294.1, 0.900901), (295.2, 2.002002), (296.3, 0.4004), (308.0, 0.900901), (309.3, 1.601602), (310.1, 0.2002), (322.5, 2.702703), (323.0, 6.206206), (324.4, 1.501502), (336.1, 0.900901), (337.2, 5.705706), (337.8, 1.401401), (350.4, 0.1001), (352.4, 14.014014), (353.2, 3.903904), (353.8, 0.500501)]\n",
      "[(29.0, 60.0), (39.0, 63.0), (41.0, 166.0), (42.0, 112.0), (43.0, 257.0), (44.0, 66.0), (49.0, 12.0), (50.0, 9.0), (51.0, 38.0), (52.0, 33.0), (53.0, 86.0), (54.0, 62.0), (55.0, 363.0), (56.0, 427.0), (57.0, 999.0), (58.0, 172.0), (66.0, 0.0), (67.0, 18.0), (68.0, 75.0), (69.0, 378.0), (70.0, 385.0), (71.0, 932.0), (72.0, 236.0), (73.0, 10.0), (79.0, 17.0), (81.0, 93.0), (82.0, 64.0), (83.0, 237.0), (84.0, 292.0), (85.0, 678.0), (86.0, 246.0), (87.0, 24.0), (93.0, 2.0), (94.0, 18.0), (95.0, 63.0), (96.0, 126.0), (97.0, 267.0), (98.0, 210.0), (99.0, 419.0), (100.0, 113.0), (108.0, 10.0), (109.0, 9.0), (110.0, 31.0), (111.0, 175.0), (112.0, 332.0), (113.0, 534.0), (114.0, 107.0), (124.0, 11.0), (125.0, 155.0), (126.0, 338.0), (127.0, 482.0), (128.0, 153.0), (129.0, 14.0), (139.0, 18.0), (140.0, 255.0), (141.0, 413.0), (142.0, 94.0), (153.0, 47.0), (154.0, 170.0), (155.0, 345.0), (156.0, 109.0), (167.0, 57.0), (168.0, 193.0), (169.0, 349.0), (170.0, 82.0), (181.0, 113.0), (182.0, 313.0), (183.0, 416.0), (184.0, 49.0), (196.0, 287.0), (197.0, 307.0), (198.0, 143.0), (210.0, 163.0), (211.0, 207.0), (212.0, 78.0), (224.0, 222.0), (225.0, 250.0), (226.0, 64.0), (238.0, 174.0), (239.0, 194.0), (240.0, 59.0), (252.0, 166.0), (253.0, 275.0), (254.0, 53.0), (266.0, 176.0), (267.0, 246.0), (268.0, 116.0), (280.0, 98.0), (281.0, 101.0), (282.0, 64.0), (294.0, 73.0), (295.0, 89.0), (296.0, 60.0), (308.0, 82.0), (309.0, 39.0), (322.0, 143.0), (323.0, 211.0), (324.0, 92.0), (336.0, 90.0), (337.0, 176.0), (338.0, 104.0), (351.0, 126.0), (352.0, 349.0), (353.0, 135.0), (354.0, 22.0)]\n"
     ]
    }
   ],
   "source": [
    "print(measured)\n",
    "print(predicted)"
   ]
  },
  {
   "cell_type": "code",
   "execution_count": 43,
   "id": "9305cf50",
   "metadata": {},
   "outputs": [
    {
     "name": "stderr",
     "output_type": "stream",
     "text": [
      "No handles with labels found to put in legend.\n"
     ]
    },
    {
     "name": "stdout",
     "output_type": "stream",
     "text": [
      "Cosine Similarity: 0.7253\n",
      "Weighted Cosine Similarity: 0.9048\n"
     ]
    },
    {
     "data": {
      "image/png": "[encoded data removed]",
      "text/plain": [
       "<Figure size 720x360 with 1 Axes>"
      ]
     },
     "metadata": {
      "needs_background": "light"
     },
     "output_type": "display_data"
    }
   ],
   "source": [
    "def convert_to_array(peaks):\n",
    "    \"\"\"ピークのリストをnumpy配列に変換\"\"\"\n",
    "    return np.array(peaks)\n",
    "\n",
    "measured_array = convert_to_array(measured)\n",
    "predicted_array = convert_to_array(predicted)\n",
    "\n",
    "meas_vec = np.zeros(2000)\n",
    "pred_vec = np.zeros(2000)\n",
    "\n",
    "def fill_vector_for_cosine(peaks, vector):\n",
    "    \"\"\"コサイン類似度用のベクトルを生成\"\"\"\n",
    "    for mz, intensity in peaks:\n",
    "        index = int(mz)  # m/z値をインデックスとして使用\n",
    "        if 0 <= index < len(vector):\n",
    "            vector[index] += intensity\n",
    "\n",
    "    return vector\n",
    "\n",
    "# recommended x=1, y=0.5 for maximizing the similarity in spectra search\n",
    "def fill_vector_for_weighted(peaks, vector, x=1, y=0.5):\n",
    "    \"\"\"重み付きコサイン類似度用のベクトルを生成\"\"\"\n",
    "    for mz, intensity in peaks:\n",
    "        index = int(mz)\n",
    "        product = pow(mz, x) * pow(intensity, y)\n",
    "        if 0 <= index < len(vector):\n",
    "            vector[index] += product\n",
    "\n",
    "    return vector\n",
    "\n",
    "\n",
    "# コサイン類似度\n",
    "def cosine_similarity(vec1, vec2):\n",
    "    \"\"\"コサイン類似度を計算\"\"\"\n",
    "    vec1 = fill_vector_for_cosine(measured_array, vec1)\n",
    "    vec2 = fill_vector_for_cosine(predicted_array, vec2)\n",
    "\n",
    "    dot_product = np.dot(vec1, vec2)\n",
    "    norm_a = np.linalg.norm(vec1)\n",
    "    norm_b = np.linalg.norm(vec2)\n",
    "    if norm_a == 0 or norm_b == 0:\n",
    "        return 0\n",
    "    return dot_product / (norm_a * norm_b) \n",
    "\n",
    "def weighted_cosine_similarity(vec1, vec2):\n",
    "    \"\"\"重み付きコサイン類似度を計算\"\"\"\n",
    "    vec1 = fill_vector_for_weighted(measured_array, vec1)\n",
    "    vec2 = fill_vector_for_weighted(predicted_array, vec2)\n",
    "\n",
    "    dot_product = np.dot(vec1, vec2)\n",
    "    norm_a = np.linalg.norm(vec1)\n",
    "    norm_b = np.linalg.norm(vec2)\n",
    "    if norm_a == 0 or norm_b == 0:\n",
    "        return 0\n",
    "    return dot_product / (norm_a * norm_b)\n",
    "\n",
    "cosine_similarity = cosine_similarity(meas_vec, pred_vec)\n",
    "print(f'Cosine Similarity: {cosine_similarity:.4f}')\n",
    "weighted_cosine_similarity = weighted_cosine_similarity(meas_vec, pred_vec)\n",
    "print(f'Weighted Cosine Similarity: {weighted_cosine_similarity:.4f}')\n",
    "\n",
    "\n",
    "# 可視化\n",
    "import matplotlib.pyplot as plt\n",
    "plt.figure(figsize=(10, 5))\n",
    "plt.stem(meas_vec, linefmt='C0-', markerfmt=' ', basefmt=' ')\n",
    "plt.stem(pred_vec, linefmt='C1--', markerfmt=' ', basefmt=' ')\n",
    "plt.title('Measured vs Predicted Spectrum')\n",
    "plt.xlabel('m/z')\n",
    "plt.ylabel('Intensity')\n",
    "plt.legend()\n",
    "plt.grid()\n",
    "plt.show()"
   ]
  },
  {
   "cell_type": "code",
   "execution_count": null,
   "id": "ac6ef060",
   "metadata": {},
   "outputs": [],
   "source": []
  }
 ],
 "metadata": {
  "kernelspec": {
   "display_name": "muto_neims",
   "language": "python",
   "name": "python3"
  },
  "language_info": {
   "codemirror_mode": {
    "name": "ipython",
    "version": 3
   },
   "file_extension": ".py",
   "mimetype": "text/x-python",
   "name": "python",
   "nbconvert_exporter": "python",
   "pygments_lexer": "ipython3",
   "version": "3.6.15"
  }
 },
 "nbformat": 4,
 "nbformat_minor": 5
}
